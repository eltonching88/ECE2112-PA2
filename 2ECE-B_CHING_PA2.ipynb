{
 "cells": [
  {
   "cell_type": "markdown",
   "id": "9bce5a02-40bc-49b4-9170-38880a749d6b",
   "metadata": {},
   "source": [
    "<h3>EXPERIMENT 2 - NUMPY</h3>"
   ]
  },
  {
   "cell_type": "markdown",
   "id": "9bd55166-cf28-41a4-b2ad-77ba795e6ecd",
   "metadata": {},
   "source": [
    "**1. NORMALIZATION PROBLEM:** Normalization is one of the most basic preprocessing techniques in\n",
    "data analytics. This involves centering and scaling process. Centering means subtracting the data from the\n",
    "mean and scaling means dividing with its standard deviation. Mathematically, normalization can be\n",
    "expressed as: \n",
    "\n",
    "$ 𝑍 = (𝑋 − 𝑥̅)  /  o $\n",
    "\n",
    "In Python, element-wise mean and element-wise standard deviation can be obtained by using .mean() and .std() calls.<br>\n",
    "In this problem, create a random 5 x 5 ndarray and store it to variable X. Normalize X. Save your normalized ndarray as X_normalized.npy\n"
   ]
  },
  {
   "cell_type": "code",
   "execution_count": 1,
   "id": "627e89a8-d673-4700-b6d2-5be779f199cc",
   "metadata": {},
   "outputs": [
    {
     "name": "stdout",
     "output_type": "stream",
     "text": [
      "Random Values:\n",
      " [[0.71162792 0.20285693 0.96377271 0.58634068 0.63386418]\n",
      " [0.4211127  0.43549484 0.37744306 0.08403909 0.39110762]\n",
      " [0.76780722 0.13662081 0.85001822 0.73867995 0.26595706]\n",
      " [0.37701478 0.95272832 0.47323084 0.008879   0.26127026]\n",
      " [0.2018807  0.52753741 0.69288635 0.27549455 0.31115795]] \n",
      "\n",
      "Normalized Values:\n",
      " [[ 0.93533203 -1.00165717  1.89529586  0.45833937  0.63927051]\n",
      " [-0.17071538 -0.1159598  -0.33697413 -1.45401957 -0.2849505 ]\n",
      " [ 1.14921746 -1.25383083  1.46221059  1.03832435 -0.7614228 ]\n",
      " [-0.33860467  1.85324772  0.02770841 -1.74016851 -0.77926635]\n",
      " [-1.00537385  0.23446401  0.86397929 -0.72511175 -0.58933431]] \n",
      "\n",
      "Stored Values:\n",
      " [[ 0.93533203 -1.00165717  1.89529586  0.45833937  0.63927051]\n",
      " [-0.17071538 -0.1159598  -0.33697413 -1.45401957 -0.2849505 ]\n",
      " [ 1.14921746 -1.25383083  1.46221059  1.03832435 -0.7614228 ]\n",
      " [-0.33860467  1.85324772  0.02770841 -1.74016851 -0.77926635]\n",
      " [-1.00537385  0.23446401  0.86397929 -0.72511175 -0.58933431]]\n"
     ]
    }
   ],
   "source": [
    "import numpy as np\n",
    "\n",
    "# A 5x5 array with randomized values\n",
    "X = np.random.random( (5,5) ) \n",
    "\n",
    "# Using the formula and code provided\n",
    "X_normalized = (X - X.mean()) / X.std()\n",
    "\n",
    "np.save(\"X_normalized.npy\", X_normalized)\n",
    "\n",
    "# To check the values,\n",
    "print(\"Random Values:\\n\", X, \"\\n\")                       # Show randomized values\n",
    "print(\"Normalized Values:\\n\", X_normalized, \"\\n\")        # Show normalized values\n",
    "print(\"Stored Values:\\n\", np.load(\"X_normalized.npy\"))   # Check if file saved normalized data"
   ]
  },
  {
   "cell_type": "markdown",
   "id": "19b757f3-cf8a-4675-94b2-13c542f9a6c6",
   "metadata": {},
   "source": [
    "**2. DIVISIBLE BY 3 PROBLEM:** Create the following 10 x 10 ndarray\n",
    "\n",
    "A = [ 10x10 ]\n",
    "\n",
    "which are the squares of the first 100 positive integers.\n",
    "From this ndarray, determine all the elements that are divisible by 3. Save the result as div_by_3.npy"
   ]
  },
  {
   "cell_type": "code",
   "execution_count": 2,
   "id": "db5a2234-e368-49de-b310-98d576f253e0",
   "metadata": {},
   "outputs": [
    {
     "name": "stdout",
     "output_type": "stream",
     "text": [
      "10x10 Matrix:\n",
      " [[    1     4     9    16    25    36    49    64    81   100]\n",
      " [  121   144   169   196   225   256   289   324   361   400]\n",
      " [  441   484   529   576   625   676   729   784   841   900]\n",
      " [  961  1024  1089  1156  1225  1296  1369  1444  1521  1600]\n",
      " [ 1681  1764  1849  1936  2025  2116  2209  2304  2401  2500]\n",
      " [ 2601  2704  2809  2916  3025  3136  3249  3364  3481  3600]\n",
      " [ 3721  3844  3969  4096  4225  4356  4489  4624  4761  4900]\n",
      " [ 5041  5184  5329  5476  5625  5776  5929  6084  6241  6400]\n",
      " [ 6561  6724  6889  7056  7225  7396  7569  7744  7921  8100]\n",
      " [ 8281  8464  8649  8836  9025  9216  9409  9604  9801 10000]] \n",
      "\n",
      "Divisible by 3:\n",
      " [   9   36   81  144  225  324  441  576  729  900 1089 1296 1521 1764\n",
      " 2025 2304 2601 2916 3249 3600 3969 4356 4761 5184 5625 6084 6561 7056\n",
      " 7569 8100 8649 9216 9801] \n",
      "\n",
      "Saved Values:\n",
      " [   9   36   81  144  225  324  441  576  729  900 1089 1296 1521 1764\n",
      " 2025 2304 2601 2916 3249 3600 3969 4356 4761 5184 5625 6084 6561 7056\n",
      " 7569 8100 8649 9216 9801]\n"
     ]
    }
   ],
   "source": [
    "import numpy as np\n",
    "\n",
    "# Create a 10x10 filled with 1's\n",
    "X = np.ones([10,10],dtype=np.int16) # Specified dtype due to float output\n",
    "\n",
    "n = 1\n",
    "for row in range(10):     # Loop through rows \n",
    "    for col in range(10): # Loop through cols\n",
    "        X[row,col] = n**2 # Square the value per column\n",
    "        n += 1            # Increase n value by 1\n",
    "\n",
    "div = X [X%3 == 0]           # Store values divisible by 3\n",
    "np.save(\"div_by_3.npy\", div) # Save values\n",
    "\n",
    "\n",
    "print(\"10x10 Matrix:\\n\", X, \"\\n\")                   # Show matrix data\n",
    "print(\"Divisible by 3:\\n\",div, \"\\n\")                # Show values divisible by 3\n",
    "print(\"Saved Values:\\n\", np.load(\"div_by_3.npy\"))   # Check if file saved div data"
   ]
  }
 ],
 "metadata": {
  "kernelspec": {
   "display_name": "Python 3 (ipykernel)",
   "language": "python",
   "name": "python3"
  },
  "language_info": {
   "codemirror_mode": {
    "name": "ipython",
    "version": 3
   },
   "file_extension": ".py",
   "mimetype": "text/x-python",
   "name": "python",
   "nbconvert_exporter": "python",
   "pygments_lexer": "ipython3",
   "version": "3.13.5"
  }
 },
 "nbformat": 4,
 "nbformat_minor": 5
}
